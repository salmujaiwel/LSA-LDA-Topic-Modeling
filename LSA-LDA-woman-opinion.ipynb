{
 "cells": [
  {
   "cell_type": "markdown",
   "metadata": {
    "_cell_guid": "81e6c728-92d6-46b6-848f-2124df59fc92",
    "_uuid": "ea84e7b744d0d5701e0019253aa9905718e55d72"
   },
   "source": [
    "## Libraries and Exploration"
   ]
  },
  {
   "cell_type": "code",
   "execution_count": 1,
   "metadata": {
    "_cell_guid": "b1f10f39-91d4-45f1-b62f-d1f590e50438",
    "_kg_hide-input": false,
    "_kg_hide-output": false,
    "_uuid": "7edd510ba8ac857514e34d6b38c0466d125cffb9"
   },
   "outputs": [],
   "source": [
    "import sys\n",
    "#!{sys.executable} -m pip install pandas\n",
    "#!{sys.executable} -m pip install numpy\n",
    "#!{sys.executable} -m pip install nltk\n",
    "#!{sys.executable} -m pip install matplotlib\n",
    "#!{sys.executable} -m pip install sklearn\n",
    "#!{sys.executable} -m pip install WordCloud\n",
    "#!{sys.executable} -m pip install selenium\n",
    "#!{sys.executable} -m pip install gensim\n",
    "#!{sys.executable} -m pip install stanfordnlp\n",
    "#!{sys.executable} -m pip install polyglot\n",
    "#!{sys.executable} -m pip install pyLDAvis\n",
    "#!{sys.executable} -m pip install TextBlob"
   ]
  },
  {
   "cell_type": "code",
   "execution_count": 2,
   "metadata": {},
   "outputs": [
    {
     "data": {
      "text/html": [
       "\n",
       "    <div class=\"bk-root\">\n",
       "        <a href=\"https://bokeh.org\" target=\"_blank\" class=\"bk-logo bk-logo-small bk-logo-notebook\"></a>\n",
       "        <span id=\"1001\">Loading BokehJS ...</span>\n",
       "    </div>"
      ]
     },
     "metadata": {},
     "output_type": "display_data"
    },
    {
     "data": {
      "application/javascript": [
       "\n",
       "(function(root) {\n",
       "  function now() {\n",
       "    return new Date();\n",
       "  }\n",
       "\n",
       "  var force = true;\n",
       "\n",
       "  if (typeof root._bokeh_onload_callbacks === \"undefined\" || force === true) {\n",
       "    root._bokeh_onload_callbacks = [];\n",
       "    root._bokeh_is_loading = undefined;\n",
       "  }\n",
       "\n",
       "  var JS_MIME_TYPE = 'application/javascript';\n",
       "  var HTML_MIME_TYPE = 'text/html';\n",
       "  var EXEC_MIME_TYPE = 'application/vnd.bokehjs_exec.v0+json';\n",
       "  var CLASS_NAME = 'output_bokeh rendered_html';\n",
       "\n",
       "  /**\n",
       "   * Render data to the DOM node\n",
       "   */\n",
       "  function render(props, node) {\n",
       "    var script = document.createElement(\"script\");\n",
       "    node.appendChild(script);\n",
       "  }\n",
       "\n",
       "  /**\n",
       "   * Handle when an output is cleared or removed\n",
       "   */\n",
       "  function handleClearOutput(event, handle) {\n",
       "    var cell = handle.cell;\n",
       "\n",
       "    var id = cell.output_area._bokeh_element_id;\n",
       "    var server_id = cell.output_area._bokeh_server_id;\n",
       "    // Clean up Bokeh references\n",
       "    if (id != null && id in Bokeh.index) {\n",
       "      Bokeh.index[id].model.document.clear();\n",
       "      delete Bokeh.index[id];\n",
       "    }\n",
       "\n",
       "    if (server_id !== undefined) {\n",
       "      // Clean up Bokeh references\n",
       "      var cmd = \"from bokeh.io.state import curstate; print(curstate().uuid_to_server['\" + server_id + \"'].get_sessions()[0].document.roots[0]._id)\";\n",
       "      cell.notebook.kernel.execute(cmd, {\n",
       "        iopub: {\n",
       "          output: function(msg) {\n",
       "            var id = msg.content.text.trim();\n",
       "            if (id in Bokeh.index) {\n",
       "              Bokeh.index[id].model.document.clear();\n",
       "              delete Bokeh.index[id];\n",
       "            }\n",
       "          }\n",
       "        }\n",
       "      });\n",
       "      // Destroy server and session\n",
       "      var cmd = \"import bokeh.io.notebook as ion; ion.destroy_server('\" + server_id + \"')\";\n",
       "      cell.notebook.kernel.execute(cmd);\n",
       "    }\n",
       "  }\n",
       "\n",
       "  /**\n",
       "   * Handle when a new output is added\n",
       "   */\n",
       "  function handleAddOutput(event, handle) {\n",
       "    var output_area = handle.output_area;\n",
       "    var output = handle.output;\n",
       "\n",
       "    // limit handleAddOutput to display_data with EXEC_MIME_TYPE content only\n",
       "    if ((output.output_type != \"display_data\") || (!output.data.hasOwnProperty(EXEC_MIME_TYPE))) {\n",
       "      return\n",
       "    }\n",
       "\n",
       "    var toinsert = output_area.element.find(\".\" + CLASS_NAME.split(' ')[0]);\n",
       "\n",
       "    if (output.metadata[EXEC_MIME_TYPE][\"id\"] !== undefined) {\n",
       "      toinsert[toinsert.length - 1].firstChild.textContent = output.data[JS_MIME_TYPE];\n",
       "      // store reference to embed id on output_area\n",
       "      output_area._bokeh_element_id = output.metadata[EXEC_MIME_TYPE][\"id\"];\n",
       "    }\n",
       "    if (output.metadata[EXEC_MIME_TYPE][\"server_id\"] !== undefined) {\n",
       "      var bk_div = document.createElement(\"div\");\n",
       "      bk_div.innerHTML = output.data[HTML_MIME_TYPE];\n",
       "      var script_attrs = bk_div.children[0].attributes;\n",
       "      for (var i = 0; i < script_attrs.length; i++) {\n",
       "        toinsert[toinsert.length - 1].firstChild.setAttribute(script_attrs[i].name, script_attrs[i].value);\n",
       "        toinsert[toinsert.length - 1].firstChild.textContent = bk_div.children[0].textContent\n",
       "      }\n",
       "      // store reference to server id on output_area\n",
       "      output_area._bokeh_server_id = output.metadata[EXEC_MIME_TYPE][\"server_id\"];\n",
       "    }\n",
       "  }\n",
       "\n",
       "  function register_renderer(events, OutputArea) {\n",
       "\n",
       "    function append_mime(data, metadata, element) {\n",
       "      // create a DOM node to render to\n",
       "      var toinsert = this.create_output_subarea(\n",
       "        metadata,\n",
       "        CLASS_NAME,\n",
       "        EXEC_MIME_TYPE\n",
       "      );\n",
       "      this.keyboard_manager.register_events(toinsert);\n",
       "      // Render to node\n",
       "      var props = {data: data, metadata: metadata[EXEC_MIME_TYPE]};\n",
       "      render(props, toinsert[toinsert.length - 1]);\n",
       "      element.append(toinsert);\n",
       "      return toinsert\n",
       "    }\n",
       "\n",
       "    /* Handle when an output is cleared or removed */\n",
       "    events.on('clear_output.CodeCell', handleClearOutput);\n",
       "    events.on('delete.Cell', handleClearOutput);\n",
       "\n",
       "    /* Handle when a new output is added */\n",
       "    events.on('output_added.OutputArea', handleAddOutput);\n",
       "\n",
       "    /**\n",
       "     * Register the mime type and append_mime function with output_area\n",
       "     */\n",
       "    OutputArea.prototype.register_mime_type(EXEC_MIME_TYPE, append_mime, {\n",
       "      /* Is output safe? */\n",
       "      safe: true,\n",
       "      /* Index of renderer in `output_area.display_order` */\n",
       "      index: 0\n",
       "    });\n",
       "  }\n",
       "\n",
       "  // register the mime type if in Jupyter Notebook environment and previously unregistered\n",
       "  if (root.Jupyter !== undefined) {\n",
       "    var events = require('base/js/events');\n",
       "    var OutputArea = require('notebook/js/outputarea').OutputArea;\n",
       "\n",
       "    if (OutputArea.prototype.mime_types().indexOf(EXEC_MIME_TYPE) == -1) {\n",
       "      register_renderer(events, OutputArea);\n",
       "    }\n",
       "  }\n",
       "\n",
       "  \n",
       "  if (typeof (root._bokeh_timeout) === \"undefined\" || force === true) {\n",
       "    root._bokeh_timeout = Date.now() + 5000;\n",
       "    root._bokeh_failed_load = false;\n",
       "  }\n",
       "\n",
       "  var NB_LOAD_WARNING = {'data': {'text/html':\n",
       "     \"<div style='background-color: #fdd'>\\n\"+\n",
       "     \"<p>\\n\"+\n",
       "     \"BokehJS does not appear to have successfully loaded. If loading BokehJS from CDN, this \\n\"+\n",
       "     \"may be due to a slow or bad network connection. Possible fixes:\\n\"+\n",
       "     \"</p>\\n\"+\n",
       "     \"<ul>\\n\"+\n",
       "     \"<li>re-rerun `output_notebook()` to attempt to load from CDN again, or</li>\\n\"+\n",
       "     \"<li>use INLINE resources instead, as so:</li>\\n\"+\n",
       "     \"</ul>\\n\"+\n",
       "     \"<code>\\n\"+\n",
       "     \"from bokeh.resources import INLINE\\n\"+\n",
       "     \"output_notebook(resources=INLINE)\\n\"+\n",
       "     \"</code>\\n\"+\n",
       "     \"</div>\"}};\n",
       "\n",
       "  function display_loaded() {\n",
       "    var el = document.getElementById(\"1001\");\n",
       "    if (el != null) {\n",
       "      el.textContent = \"BokehJS is loading...\";\n",
       "    }\n",
       "    if (root.Bokeh !== undefined) {\n",
       "      if (el != null) {\n",
       "        el.textContent = \"BokehJS \" + root.Bokeh.version + \" successfully loaded.\";\n",
       "      }\n",
       "    } else if (Date.now() < root._bokeh_timeout) {\n",
       "      setTimeout(display_loaded, 100)\n",
       "    }\n",
       "  }\n",
       "\n",
       "\n",
       "  function run_callbacks() {\n",
       "    try {\n",
       "      root._bokeh_onload_callbacks.forEach(function(callback) {\n",
       "        if (callback != null)\n",
       "          callback();\n",
       "      });\n",
       "    } finally {\n",
       "      delete root._bokeh_onload_callbacks\n",
       "    }\n",
       "    console.debug(\"Bokeh: all callbacks have finished\");\n",
       "  }\n",
       "\n",
       "  function load_libs(css_urls, js_urls, callback) {\n",
       "    if (css_urls == null) css_urls = [];\n",
       "    if (js_urls == null) js_urls = [];\n",
       "\n",
       "    root._bokeh_onload_callbacks.push(callback);\n",
       "    if (root._bokeh_is_loading > 0) {\n",
       "      console.debug(\"Bokeh: BokehJS is being loaded, scheduling callback at\", now());\n",
       "      return null;\n",
       "    }\n",
       "    if (js_urls == null || js_urls.length === 0) {\n",
       "      run_callbacks();\n",
       "      return null;\n",
       "    }\n",
       "    console.debug(\"Bokeh: BokehJS not loaded, scheduling load and callback at\", now());\n",
       "    root._bokeh_is_loading = css_urls.length + js_urls.length;\n",
       "\n",
       "    function on_load() {\n",
       "      root._bokeh_is_loading--;\n",
       "      if (root._bokeh_is_loading === 0) {\n",
       "        console.debug(\"Bokeh: all BokehJS libraries/stylesheets loaded\");\n",
       "        run_callbacks()\n",
       "      }\n",
       "    }\n",
       "\n",
       "    function on_error() {\n",
       "      console.error(\"failed to load \" + url);\n",
       "    }\n",
       "\n",
       "    for (var i = 0; i < css_urls.length; i++) {\n",
       "      var url = css_urls[i];\n",
       "      const element = document.createElement(\"link\");\n",
       "      element.onload = on_load;\n",
       "      element.onerror = on_error;\n",
       "      element.rel = \"stylesheet\";\n",
       "      element.type = \"text/css\";\n",
       "      element.href = url;\n",
       "      console.debug(\"Bokeh: injecting link tag for BokehJS stylesheet: \", url);\n",
       "      document.body.appendChild(element);\n",
       "    }\n",
       "\n",
       "    const hashes = {\"https://cdn.bokeh.org/bokeh/release/bokeh-2.1.1.min.js\": \"kLr4fYcqcSpbuI95brIH3vnnYCquzzSxHPU6XGQCIkQRGJwhg0StNbj1eegrHs12\", \"https://cdn.bokeh.org/bokeh/release/bokeh-widgets-2.1.1.min.js\": \"xIGPmVtaOm+z0BqfSOMn4lOR6ciex448GIKG4eE61LsAvmGj48XcMQZtKcE/UXZe\", \"https://cdn.bokeh.org/bokeh/release/bokeh-tables-2.1.1.min.js\": \"Dc9u1wF/0zApGIWoBbH77iWEHtdmkuYWG839Uzmv8y8yBLXebjO9ZnERsde5Ln/P\", \"https://cdn.bokeh.org/bokeh/release/bokeh-gl-2.1.1.min.js\": \"cT9JaBz7GiRXdENrJLZNSC6eMNF3nh3fa5fTF51Svp+ukxPdwcU5kGXGPBgDCa2j\"};\n",
       "\n",
       "    for (var i = 0; i < js_urls.length; i++) {\n",
       "      var url = js_urls[i];\n",
       "      var element = document.createElement('script');\n",
       "      element.onload = on_load;\n",
       "      element.onerror = on_error;\n",
       "      element.async = false;\n",
       "      element.src = url;\n",
       "      if (url in hashes) {\n",
       "        element.crossOrigin = \"anonymous\";\n",
       "        element.integrity = \"sha384-\" + hashes[url];\n",
       "      }\n",
       "      console.debug(\"Bokeh: injecting script tag for BokehJS library: \", url);\n",
       "      document.head.appendChild(element);\n",
       "    }\n",
       "  };\n",
       "\n",
       "  function inject_raw_css(css) {\n",
       "    const element = document.createElement(\"style\");\n",
       "    element.appendChild(document.createTextNode(css));\n",
       "    document.body.appendChild(element);\n",
       "  }\n",
       "\n",
       "  \n",
       "  var js_urls = [\"https://cdn.bokeh.org/bokeh/release/bokeh-2.1.1.min.js\", \"https://cdn.bokeh.org/bokeh/release/bokeh-widgets-2.1.1.min.js\", \"https://cdn.bokeh.org/bokeh/release/bokeh-tables-2.1.1.min.js\", \"https://cdn.bokeh.org/bokeh/release/bokeh-gl-2.1.1.min.js\"];\n",
       "  var css_urls = [];\n",
       "  \n",
       "\n",
       "  var inline_js = [\n",
       "    function(Bokeh) {\n",
       "      Bokeh.set_log_level(\"info\");\n",
       "    },\n",
       "    function(Bokeh) {\n",
       "    \n",
       "    \n",
       "    }\n",
       "  ];\n",
       "\n",
       "  function run_inline_js() {\n",
       "    \n",
       "    if (root.Bokeh !== undefined || force === true) {\n",
       "      \n",
       "    for (var i = 0; i < inline_js.length; i++) {\n",
       "      inline_js[i].call(root, root.Bokeh);\n",
       "    }\n",
       "    if (force === true) {\n",
       "        display_loaded();\n",
       "      }} else if (Date.now() < root._bokeh_timeout) {\n",
       "      setTimeout(run_inline_js, 100);\n",
       "    } else if (!root._bokeh_failed_load) {\n",
       "      console.log(\"Bokeh: BokehJS failed to load within specified timeout.\");\n",
       "      root._bokeh_failed_load = true;\n",
       "    } else if (force !== true) {\n",
       "      var cell = $(document.getElementById(\"1001\")).parents('.cell').data().cell;\n",
       "      cell.output_area.append_execute_result(NB_LOAD_WARNING)\n",
       "    }\n",
       "\n",
       "  }\n",
       "\n",
       "  if (root._bokeh_is_loading === 0) {\n",
       "    console.debug(\"Bokeh: BokehJS loaded, going straight to plotting\");\n",
       "    run_inline_js();\n",
       "  } else {\n",
       "    load_libs(css_urls, js_urls, function() {\n",
       "      console.debug(\"Bokeh: BokehJS plotting callback run at\", now());\n",
       "      run_inline_js();\n",
       "    });\n",
       "  }\n",
       "}(window));"
      ],
      "application/vnd.bokehjs_load.v0+json": "\n(function(root) {\n  function now() {\n    return new Date();\n  }\n\n  var force = true;\n\n  if (typeof root._bokeh_onload_callbacks === \"undefined\" || force === true) {\n    root._bokeh_onload_callbacks = [];\n    root._bokeh_is_loading = undefined;\n  }\n\n  \n\n  \n  if (typeof (root._bokeh_timeout) === \"undefined\" || force === true) {\n    root._bokeh_timeout = Date.now() + 5000;\n    root._bokeh_failed_load = false;\n  }\n\n  var NB_LOAD_WARNING = {'data': {'text/html':\n     \"<div style='background-color: #fdd'>\\n\"+\n     \"<p>\\n\"+\n     \"BokehJS does not appear to have successfully loaded. If loading BokehJS from CDN, this \\n\"+\n     \"may be due to a slow or bad network connection. Possible fixes:\\n\"+\n     \"</p>\\n\"+\n     \"<ul>\\n\"+\n     \"<li>re-rerun `output_notebook()` to attempt to load from CDN again, or</li>\\n\"+\n     \"<li>use INLINE resources instead, as so:</li>\\n\"+\n     \"</ul>\\n\"+\n     \"<code>\\n\"+\n     \"from bokeh.resources import INLINE\\n\"+\n     \"output_notebook(resources=INLINE)\\n\"+\n     \"</code>\\n\"+\n     \"</div>\"}};\n\n  function display_loaded() {\n    var el = document.getElementById(\"1001\");\n    if (el != null) {\n      el.textContent = \"BokehJS is loading...\";\n    }\n    if (root.Bokeh !== undefined) {\n      if (el != null) {\n        el.textContent = \"BokehJS \" + root.Bokeh.version + \" successfully loaded.\";\n      }\n    } else if (Date.now() < root._bokeh_timeout) {\n      setTimeout(display_loaded, 100)\n    }\n  }\n\n\n  function run_callbacks() {\n    try {\n      root._bokeh_onload_callbacks.forEach(function(callback) {\n        if (callback != null)\n          callback();\n      });\n    } finally {\n      delete root._bokeh_onload_callbacks\n    }\n    console.debug(\"Bokeh: all callbacks have finished\");\n  }\n\n  function load_libs(css_urls, js_urls, callback) {\n    if (css_urls == null) css_urls = [];\n    if (js_urls == null) js_urls = [];\n\n    root._bokeh_onload_callbacks.push(callback);\n    if (root._bokeh_is_loading > 0) {\n      console.debug(\"Bokeh: BokehJS is being loaded, scheduling callback at\", now());\n      return null;\n    }\n    if (js_urls == null || js_urls.length === 0) {\n      run_callbacks();\n      return null;\n    }\n    console.debug(\"Bokeh: BokehJS not loaded, scheduling load and callback at\", now());\n    root._bokeh_is_loading = css_urls.length + js_urls.length;\n\n    function on_load() {\n      root._bokeh_is_loading--;\n      if (root._bokeh_is_loading === 0) {\n        console.debug(\"Bokeh: all BokehJS libraries/stylesheets loaded\");\n        run_callbacks()\n      }\n    }\n\n    function on_error() {\n      console.error(\"failed to load \" + url);\n    }\n\n    for (var i = 0; i < css_urls.length; i++) {\n      var url = css_urls[i];\n      const element = document.createElement(\"link\");\n      element.onload = on_load;\n      element.onerror = on_error;\n      element.rel = \"stylesheet\";\n      element.type = \"text/css\";\n      element.href = url;\n      console.debug(\"Bokeh: injecting link tag for BokehJS stylesheet: \", url);\n      document.body.appendChild(element);\n    }\n\n    const hashes = {\"https://cdn.bokeh.org/bokeh/release/bokeh-2.1.1.min.js\": \"kLr4fYcqcSpbuI95brIH3vnnYCquzzSxHPU6XGQCIkQRGJwhg0StNbj1eegrHs12\", \"https://cdn.bokeh.org/bokeh/release/bokeh-widgets-2.1.1.min.js\": \"xIGPmVtaOm+z0BqfSOMn4lOR6ciex448GIKG4eE61LsAvmGj48XcMQZtKcE/UXZe\", \"https://cdn.bokeh.org/bokeh/release/bokeh-tables-2.1.1.min.js\": \"Dc9u1wF/0zApGIWoBbH77iWEHtdmkuYWG839Uzmv8y8yBLXebjO9ZnERsde5Ln/P\", \"https://cdn.bokeh.org/bokeh/release/bokeh-gl-2.1.1.min.js\": \"cT9JaBz7GiRXdENrJLZNSC6eMNF3nh3fa5fTF51Svp+ukxPdwcU5kGXGPBgDCa2j\"};\n\n    for (var i = 0; i < js_urls.length; i++) {\n      var url = js_urls[i];\n      var element = document.createElement('script');\n      element.onload = on_load;\n      element.onerror = on_error;\n      element.async = false;\n      element.src = url;\n      if (url in hashes) {\n        element.crossOrigin = \"anonymous\";\n        element.integrity = \"sha384-\" + hashes[url];\n      }\n      console.debug(\"Bokeh: injecting script tag for BokehJS library: \", url);\n      document.head.appendChild(element);\n    }\n  };\n\n  function inject_raw_css(css) {\n    const element = document.createElement(\"style\");\n    element.appendChild(document.createTextNode(css));\n    document.body.appendChild(element);\n  }\n\n  \n  var js_urls = [\"https://cdn.bokeh.org/bokeh/release/bokeh-2.1.1.min.js\", \"https://cdn.bokeh.org/bokeh/release/bokeh-widgets-2.1.1.min.js\", \"https://cdn.bokeh.org/bokeh/release/bokeh-tables-2.1.1.min.js\", \"https://cdn.bokeh.org/bokeh/release/bokeh-gl-2.1.1.min.js\"];\n  var css_urls = [];\n  \n\n  var inline_js = [\n    function(Bokeh) {\n      Bokeh.set_log_level(\"info\");\n    },\n    function(Bokeh) {\n    \n    \n    }\n  ];\n\n  function run_inline_js() {\n    \n    if (root.Bokeh !== undefined || force === true) {\n      \n    for (var i = 0; i < inline_js.length; i++) {\n      inline_js[i].call(root, root.Bokeh);\n    }\n    if (force === true) {\n        display_loaded();\n      }} else if (Date.now() < root._bokeh_timeout) {\n      setTimeout(run_inline_js, 100);\n    } else if (!root._bokeh_failed_load) {\n      console.log(\"Bokeh: BokehJS failed to load within specified timeout.\");\n      root._bokeh_failed_load = true;\n    } else if (force !== true) {\n      var cell = $(document.getElementById(\"1001\")).parents('.cell').data().cell;\n      cell.output_area.append_execute_result(NB_LOAD_WARNING)\n    }\n\n  }\n\n  if (root._bokeh_is_loading === 0) {\n    console.debug(\"Bokeh: BokehJS loaded, going straight to plotting\");\n    run_inline_js();\n  } else {\n    load_libs(css_urls, js_urls, function() {\n      console.debug(\"Bokeh: BokehJS plotting callback run at\", now());\n      run_inline_js();\n    });\n  }\n}(window));"
     },
     "metadata": {},
     "output_type": "display_data"
    }
   ],
   "source": [
    "import numpy as np\n",
    "import pandas as pd\n",
    "from IPython.display import display\n",
    "from tqdm import tqdm\n",
    "from collections import Counter\n",
    "import ast\n",
    "\n",
    "import arabic_reshaper\n",
    "import matplotlib.pyplot as plt\n",
    "import matplotlib.mlab as mlab\n",
    "import seaborn as sb\n",
    "\n",
    "from sklearn.feature_extraction.text import CountVectorizer\n",
    "from textblob import TextBlob\n",
    "import scipy.stats as stats\n",
    "\n",
    "from sklearn.decomposition import TruncatedSVD\n",
    "from sklearn.decomposition import LatentDirichletAllocation\n",
    "from sklearn.manifold import TSNE\n",
    "\n",
    "from bokeh.plotting import figure, output_file, show\n",
    "from bokeh.models import Label\n",
    "from bokeh.io import output_notebook\n",
    "output_notebook()\n",
    "\n",
    "%matplotlib inline"
   ]
  },
  {
   "cell_type": "code",
   "execution_count": 3,
   "metadata": {
    "_uuid": "99df159d8549d11d99e8a349a4a7893812b187f2"
   },
   "outputs": [
    {
     "data": {
      "text/html": [
       "<div>\n",
       "<style scoped>\n",
       "    .dataframe tbody tr th:only-of-type {\n",
       "        vertical-align: middle;\n",
       "    }\n",
       "\n",
       "    .dataframe tbody tr th {\n",
       "        vertical-align: top;\n",
       "    }\n",
       "\n",
       "    .dataframe thead th {\n",
       "        text-align: right;\n",
       "    }\n",
       "</style>\n",
       "<table border=\"1\" class=\"dataframe\">\n",
       "  <thead>\n",
       "    <tr style=\"text-align: right;\">\n",
       "      <th></th>\n",
       "      <th>date</th>\n",
       "      <th>concordance</th>\n",
       "    </tr>\n",
       "  </thead>\n",
       "  <tbody>\n",
       "    <tr>\n",
       "      <th>0</th>\n",
       "      <td>1996-01-01</td>\n",
       "      <td>كتابته عن المرأة واللغة نموذجا لتوضيح كتاب الم...</td>\n",
       "    </tr>\n",
       "    <tr>\n",
       "      <th>1</th>\n",
       "      <td>1999-01-01</td>\n",
       "      <td>بالاضافة الى ذلك تحتاج المرأة وخاصة الشابة وال...</td>\n",
       "    </tr>\n",
       "    <tr>\n",
       "      <th>2</th>\n",
       "      <td>1999-01-01</td>\n",
       "      <td>الجماع لشكوى المرأة وايضا لشكوى الرجل</td>\n",
       "    </tr>\n",
       "    <tr>\n",
       "      <th>3</th>\n",
       "      <td>1999-01-01</td>\n",
       "      <td>بين المرأة المسلمة والمرأة في أوروبا</td>\n",
       "    </tr>\n",
       "    <tr>\n",
       "      <th>4</th>\n",
       "      <td>1999-01-01</td>\n",
       "      <td>الأجنبيات ومحاولة استمالة المرأة لفعل</td>\n",
       "    </tr>\n",
       "  </tbody>\n",
       "</table>\n",
       "</div>"
      ],
      "text/plain": [
       "        date                                        concordance\n",
       "0 1996-01-01  كتابته عن المرأة واللغة نموذجا لتوضيح كتاب الم...\n",
       "1 1999-01-01  بالاضافة الى ذلك تحتاج المرأة وخاصة الشابة وال...\n",
       "2 1999-01-01             الجماع لشكوى المرأة وايضا لشكوى الرجل \n",
       "3 1999-01-01              بين المرأة المسلمة والمرأة في أوروبا \n",
       "4 1999-01-01             الأجنبيات ومحاولة استمالة المرأة لفعل "
      ]
     },
     "execution_count": 3,
     "metadata": {},
     "output_type": "execute_result"
    }
   ],
   "source": [
    "datafile = '..\\\\woman-opinion.csv'\n",
    "raw_data = pd.read_csv(datafile, parse_dates=[0], infer_datetime_format=True)\n",
    "\n",
    "reindexed_data = raw_data['concordance']\n",
    "reindexed_data.index = raw_data['date']\n",
    "\n",
    "raw_data.head()"
   ]
  },
  {
   "cell_type": "markdown",
   "metadata": {},
   "source": [
    "from nltk.corpus import stopwords\n",
    "import nltk\n",
    "nltk.download('stopwords')\n",
    "stopwords_list = stopwords.words('function-ar')\n",
    "print(stopwords_list)"
   ]
  },
  {
   "cell_type": "markdown",
   "metadata": {},
   "source": [
    "def get_stopwords():\n",
    "    nltk_stopwords = set(stopwords.words('function-ar'))\n",
    "    sklearn_stopwords = stop_words.ARABIC_STOP_WORDS\n",
    "\n",
    "    all_stopwords = set()\n",
    "    all_stopwords |= spacy_stopwords\n",
    "    all_stopwords |= nltk_stopwords\n",
    "    all_stopwords |= sklearn_stopwords\n",
    "\n",
    "    return all_stopwords"
   ]
  },
  {
   "cell_type": "code",
   "execution_count": 4,
   "metadata": {
    "_cell_guid": "db6ce2f5-1247-4446-90f2-6aa2ba8af168",
    "_kg_hide-input": true,
    "_uuid": "59f4ae5e8e06786fa3ebdec7ec3011645aad3544"
   },
   "outputs": [],
   "source": [
    "# Define helper functions\n",
    "def get_top_n_words(n_top_words, count_vectorizer, text_data):\n",
    "    '''\n",
    "    returns a tuple of the top n words in a sample and their \n",
    "    accompanying counts, given a CountVectorizer object and text sample\n",
    "    '''\n",
    "    vectorized_concordances = count_vectorizer.fit_transform(text_data.values)\n",
    "    vectorized_total = np.sum(vectorized_concordances, axis=0)\n",
    "    word_indices = np.flip(np.argsort(vectorized_total)[0,:], 1)\n",
    "    word_values = np.flip(np.sort(vectorized_total)[0,:],1)\n",
    "    \n",
    "    word_vectors = np.zeros((n_top_words, vectorized_concordances.shape[1]))\n",
    "    for i in range(n_top_words):\n",
    "        word_vectors[i,word_indices[0,i]] = 1\n",
    "\n",
    "    words = [word[0].encode('utf-8').decode('utf-8') for \n",
    "             word in count_vectorizer.inverse_transform(word_vectors)]\n",
    "\n",
    "    return (words, word_values[0,:n_top_words].tolist()[0])"
   ]
  },
  {
   "cell_type": "code",
   "execution_count": 5,
   "metadata": {},
   "outputs": [],
   "source": [
    "tagged_concordances = [TextBlob(reindexed_data[i]).pos_tags for i in range(reindexed_data.shape[0])]"
   ]
  },
  {
   "cell_type": "code",
   "execution_count": 6,
   "metadata": {
    "_cell_guid": "23505283-086a-4e8d-9a84-39ab490c21b7",
    "_kg_hide-input": true,
    "_uuid": "33bfd02abaf5127477994d0323c2ee316b6e7eda"
   },
   "outputs": [
    {
     "name": "stdout",
     "output_type": "stream",
     "text": [
      "Total number of words:  439333\n",
      "Mean number of words per concordance:  24.56707487558016\n"
     ]
    }
   ],
   "source": [
    "tagged_concordances_df = pd.DataFrame({'tags':tagged_concordances})\n",
    "\n",
    "word_counts = [] \n",
    "pos_counts = {}\n",
    "\n",
    "for concordance in tagged_concordances_df[u'tags']:\n",
    "    word_counts.append(len(concordance))\n",
    "    for tag in concordance:\n",
    "        if tag[1] in pos_counts:\n",
    "            pos_counts[tag[1]] += 1\n",
    "        else:\n",
    "            pos_counts[tag[1]] = 1\n",
    "            \n",
    "print('Total number of words: ', np.sum(word_counts))\n",
    "print('Mean number of words per concordance: ', np.mean(word_counts))"
   ]
  },
  {
   "cell_type": "code",
   "execution_count": 9,
   "metadata": {},
   "outputs": [],
   "source": [
    "# NLTK Stop words\n",
    "\n",
    "mylist= ['إذ','إذا','إذما','إذن','أف','أقل','أكثر','ألا','إلا','التي','الذي','الذين','اللاتي','اللائي','اللتان','اللتيا','اللتين','اللذان','اللذين','اللواتي','إلى','إليك','إليكم','إليكما','إليكن','أم','أما','أما','إما','أن','إن','إنا','أنا','أنت','أنتم','أنتما','أنتن','إنما','إنه','أنى','أنى','آه','آها','أو','أولاء','أولئك','أوه','آي','أي','أيها','إي','أين','أين','أينما','إيه','بخ','بس','بعد','بعض','بك','بكم','بكم','بكما','بكن','بل','بلى','بما','بماذا','بمن','بنا','به','بها','بهم','بهما','بهن','بي','بين','بيد','تلك','تلكم','تلكما','ته','تي','تين','تينك','ثم','ثمة','حاشا','حبذا','حتى','حيث','حيثما','حين','خلا','دون','ذا','ذات','ذاك','ذان','ذانك','ذلك','ذلكم','ذلكما','ذلكن','ذه','ذو','ذوا','ذواتا','ذواتي','ذي','ذين','ذينك','ريث','سوف','سوى','شتان','عدا','عسى','عل','على','عليك','عليه','عما','عن','عند','غير','فإذا','فإن','فلا','فمن','في','فيم','فيما','فيه','فيها','قد','كأن','كأنما','كأي','كأين','كذا','كذلك','كل','كلا','كلاهما','كلتا','كلما','كليكما','كليهما','كم','كم','كما','كي','كيت','كيف','كيفما','لا','لاسيما','لدى','لست','لستم','لستما','لستن','لسن','لسنا','لعل','لك','لكم','لكما','لكن','لكنما','لكي','لكيلا','لم','لما','لن','وبما','أنهم','إنهم','فبما','لنا','له','لها','لهم','لهما','لهن','لو','لولا','لوما','لي','لئن','ليت','ليس','ليسا','ليست','ليستا','ليسوا','ما','ماذا','متى','مذ','مع','مما','ممن','من','منه','منها','منذ','مه','مهما','نحن','نحو','نعم','ها','هاتان','هاته','هاتي','هاتين','هاك','هاهنا','هذا','هذان','هذه','هذي','هذين','هكذا','هل','هلا','هم','هما','هن','هنا','هناك','هنالك','هو','هؤلاء','هي','هيا','هيت','هيهات','والذي','والذين','وإذ','وإذا','وإن','ولا','ولكن','ولو','وما','ومن','وهو','يا','هي','أفهي','أوهي','فهي','وهي','لهي','هو','أهو','أوهو','أفهو','فهو','وهو','لهو','ولهو','فلهو','هم','أهم','أفهم','أوهم','بهم','فهم','وهم','لهم','ولهم','فلهم','هن','أهن','أوهن','أفهن','فهن','بهن','وهن','لهن','فلهن','ولهن','هما','فهما','لهما','وهما','بهما','ولبهما','فلبهما','أنت','وأنت','لأنت','فأنت','ولأنت','فلأنت','أنتم','وأنتم','لأنتم','فأنتم','فلأنتم','ولأنتم','أنت','وأنتن','لأنتن','فأنتن','فلأنتن','ولأنتن','أنتما','وأنتما','لأنتما','فأنتما','ولأنتما','فلأنتما','نحن','أفنحن','أونحن','أولنحن','ونحن','فنحن','لنحن','ولنحن','فلنحن','أنا','أأنا','أفأنا','أوأنا','وأنا','لأنا','فأنا','ولأنا','فلأنا','هذا','أهذا','أفهذا','أوهذا','بهذا','وهذا','كهذا','لهذا','فهذا','ولهذا','فلهذا','هذه','أهذه','أفهذه','أوهذه','بهذه','وهذه','كهذه','لهذه','فهذه','ولهذه','فلهذه','هذان','أهذان','أفهذان','أوهذان','بهذين','وهذان','كهذين','لهذين','فهذان','ولهذين','فلهذان','هذين','أهذين','أفهذين','أوهذين','بهذين','وهذين','كهذين','لهذان','فهذين','ولهذين','فلهذين','هؤلاء','أهؤلاء','فهؤلاء','وهؤلاء','ولهؤلاء','وبهؤلاء','أفهؤلاء','أوهؤلاء','لهؤلاء','كهؤلاء','بهؤلاء','أكهؤلاء','هاتان','أهاتان','أفهاتان','أوهاتان','وهاتان','كهاتين','لهاتين','فهاتان','ولهاتين','فلهاتان','هاتين','أهاتين','أفهاتين','أوهاتين','بهاتين','وهاتين','كهاتين','لهاتان','فهاتين','ولهاتين','فلهاتين','الذين','اللذان','الذي','التي','اللذين','اللاتي','اللائي','والذين','واللذان','والذي','والتي','واللذين','واللاتي','واللائي','فالذين','فاللذان','فالذي','فالتي','فاللذين','فاللاتي','فاللائي','كالذين','كاللذان','كالذي','كالتي','كاللذين','كاللاتي','كاللائي','للذين','لللذان','للذي','للتي','للذين','للاتي','للائي','بالذين','باللذان','بالذي','بالتي','باللذين','باللاتي','باللائي','أوالذين','أواللذان','أوالذي','أوالتي','أواللذين','أواللاتي','أواللائي','أفالذين','أفاللذان','أفالذي','أفالتي','أفاللذين','أفاللاتي','أفاللائي','وللذين','ولللذان','وللذي','وللتي','وللذين','وللاتي','وللائي','وبالذين','وباللذان','وبالذي','وبالتي','وباللذين','وباللاتي','وباللائي','ثم','فثمة','وثمة','لم','ولم','فلم','سوف','وسوف','فسوف','أفسوف','أوسوف','ولسوف','أن','إن','إنا','أنا','وأن','وإن','وإنا','وأنا','فأن','فإن','فإنا','فأنا','بأن','بإن','بإنا','بأنا','أوأن','أوإن','أوإنا','أوأنا','ولأن','ولإن','ولإنا','ولأنا','لئن','فلئن','ولئن','أولئن','أفلئن','ما','وما','أفما','أوما','ولما','لما','كلما','فلما','عم','عمن','بما','فما','كما','وكما','فكما','قد','وقد','لقد','فقد','لكن','ولكن','فلكن','لكنهم','ولكنهم','فلكنهم','لكنه','ولكنه','فلكنه','لكنها','ولكنها','فلكنها','لكنهما','ولكنهما','فلكنهما','لكنهن','ولكنهن','فلكنهن','إذا','إذ','فإذا','وإذا','فإذ','وإذ','أو','في','وفي','ففي','لفي','وفي','من','ومن','فمن','لمن','أومن','أفمن','كمن','إلى','وإلى','فإلى','أإلى','إلام','علام','حتام','عن','وعن','فعن','أوعن','طالما','لطالما','فطالما','حاشا','وحاشا','وعدا','إلا','فحاشا','فعدا','وإلا','ألا','كلا','نعم','اللهم','كل','فكل','ككل','ولكل','وككل','وكل','لكل','ولكل','فلكل','بكل','وبكل','فبكل','كلهم','فكلهم','ككلهم','ولكلهم','وككل','وكلهم','لكلهم','ولكلهم','فلكلهم','بكلهما','وبكلهما','فبكلهما','كلهن','فكلهن','ككل','ولكل','وككل','وكلكم','لكلكم','ولكلكم','فلكلكم','بكل','وبكل','فبكل','كلهما','وكلهما','فكلهما','فكلهن','كله','وكله','فكله','بكله','لكله','ككله','كلها','وكلها','بكلها','فكلها','لكلها','ككلها','ولكلها','بعض','ببعض','وببعض','فببعض','وبعض','ولبعض','فلبعض','فبعض','كبعض','وكبعض','بعضها','ببعضها','وببعضها','فببعضها','وبعضها','ولبعضها','فلبعضها','فبعضها','كبعضها','وكبعضها','بعضه','ببعضه','وببعضه','فببعضه','وبعضه','ولبعضه','فلبعضه','فبعضه','كبعضه','وكبعضه','بعضهن','ببعضهن','وببعضهن','فببعضهن','وبعضهن','ولبعضهن','فلبعضهن','فبعضهن','كبعضهن','وكبعضهن','بعضهم','ببعضهم','وببعضهم','فببعضهم','وبعضهم','ولبعضهم','فلبعضهم','فبعضهم','كبعضهم','وكبعضهم','بعضهما','ببعضهما','وببعضهما','فببعضهما','وبعضهما','ولبعضهما','فلبعضهما','فبعضهما','كبعضهما','وكبعضهما','جميع','وجميع','فجميع','لجميع','كجميع','جميعهم','وجميعهم','فجميعهم','بجميع','بجميعهم','جميعهن','وجميعهن','ولجميعهم','بجميعهن','كجميعهن','جميعها','وجميعها','فجميعها','لجميعها','كجميعها','جميعه','وجميعه','فجميعه','لجميعه','كجميعه','إلخ','حيث','وحيث','بحيث','ثم','فثم','فثمة','ليس','وليس','لا','ولا','ألا','إلا','كلا','نعم','بلى','أفلا','أولا','قبل','قبله','قبلها','قبلهن','قبلهم','قبلي','قبلك','قبلكم','قبلهما','قبلكما','وقبل','وقبله','وقبلها','وقبلهن','وقبلهم','وقبلي','وقبلك','وقبلكم','وقبلهما','وقبلكما','فقبل','فقبله','فقبلها','فقبلهن','فقبلهم','فقبلي','فقبلك','فقبلكم','فقبلهما','فقبلكما','ولقبلكما','بعد','بعده','بعدها','بعدهن','بعدهم','بعدي','بعدك','بعدكم','بعدهما','بعدكما','وبعد','وبعده','وبعدها','وبعدهن','وبعدهم','وبعدي','وبعدك','وبعدكم','وبعدهما','وبعدكما','فبعد','فبعده','فبعدها','فبعدهن','فبعدهم','ولبعدهم','فبعدي','فبعدك','فبعدكم','فبعدهما','فبعدكما','ولبعدكما','من','منه','منها','منهما','منكما','منهم','منهن','منك','مني','منكن','ومن','ومنه','ومنها','ومنهما','ومنكما','ومنهم','ومنهن','ومنك','ومني','ومنكن','فمن','فمنه','فمنها','فمنهما','فمنكما','فمنهم','فمنهن','فمنك','فمني','فمنكن','أمن','أمنه','أمنها','أمنهما','أمنكما','أمنهم','أمنهن','أمنك','أمني','أمنكن','عن','عنه','عنها','عنهما','عنكما','عنهم','عنهن','عنك','عني','عنكن','وعن','وعنه','وعنها','وعنهما','وعنكما','وعنهم','وعنهن','وعنك','وعني','وعنكن','فعن','فعنه','فعنها','فعنهما','فعنكما','فعنهم','فعنهن','فعنك','فعني','فعنكن','أعن','أعنه','أعنها','أعنهما','أعنكما','أعنهم','أعنهن','أعنك','أعني','أعنكن','قد','وقد','فلقد','ولقد','لم','ولم','أولم','فلم','ل','له','لها','لهما','لكما','لهم','لهن','لك','لي','لكن','ول','وله','ولها','ولهما','ولكما','ولهم','ولهن','ولك','ولي','ولكن','فل','فله','فلها','فلهما','فلكما','فلهم','فلهن','فلك','فلي','فلكن','أل','أله','ألها','ألهما','ألكما','ألهم','ألهن','ألك','ألي','ألكن','في','فيه','فيها','فيهما','فيكما','فيهم','فيهن','فيك','فيي','فيكن','وفي','وفيه','وفيها','وفيهما','وفيكما','وفيهم','وفيهن','وفيك','وفيي','وفيكن','ففي','ففيه','ففيها','ففيهما','ففيكما','ففيهم','ففيهن','ففيك','ففيي','ففيكن','أفي','أفيه','أفيها','أفيهما','أفيكما','أفيهم','أفيهن','أفيك','أفيي','أفيكن','عند','عنده','عندها','عندهما','عندكما','عندهم','عندهن','عندك','عندي','عندكن','وعند','وعنده','وعندها','وعندهما','وعندكما','وعندهم','وعندهن','وعندك','وعندي','وعندكن','فعند','فعنده','فعندها','فعندهما','فعندكما','فعندهم','فعندهن','فعندك','فعندي','فعندكن','أعند','أعنده','أعندها','أعندهما','أعندكما','أعندهم','أعندهن','أعندك','أعندي','أعندكن','مع','معه','معها','معهما'\n",
    "         ,'معكما','معهم','معهن','معك','معي','معكن','ومع','ومعه','ومعها','ومعهما','ومعكما','ومعهم','ومعهن','ومعك','ومعي','ومعكن','فمع','فمعه','فمعها','فمعهما','فمعكما','فمعهم','فمعهن','فمعك','فمعي','فمعكن','أمع','أمعه','أمعها','أمعهما','أمعكما','أمعهم','أمعهن','أمعك','أمعي','أمعكن','إلى','إليه','إليها','إليهما','إليكما','إليهم','إليهن','إليك','إليي','إليكن','وإلي','وإليه','وإليها','وإليهما','وإليكما','وإليهم','وإليهن','وإليك','وإليكن','فإلي','فإليه','فإليها','فإليهما','فإليكما','فإليهم','فإليهن','فإليك','فإليي','فإليكن','أإلي','أإليه','أإليها','أإليهما','أإليكما','أإليهم','أإليهن','أإليك','أإليي','أإليكن','على','عليه','عليها','عليهما','عليكما','عليهم','عليهن','عليك','عليكن','وعلى','وعليه','وعليها','وعليهما','وعليكما','وعليهم','وعليهن','وعليك','وعليي','وعليكن','فعلى','فعليه','فعليها','فعليهما','فعليكما','فعليهم','فعليهن','فعليك','فعليي','فعليكن','أعليه','أعليها','أعليهما','أعليكما','أعليهم','أعليهن','أعليك','أعليكن','إياك','فإياك','وإياك','إياكم','فإياكم','وإياكم','إياكن','فإياكن','وإياكن','إياكما','فإياكما','وإياكما','إياكم','فإياكم','وإياكم','إياهم','فإياهم','وإياهم','إياهن','فإياهن','وإياهن','إياي','فإياي','وإياي','إيانا','فإيانا','وإيانا','كذلك','وكذلك','ولذلك','تلكم','وتلكم','وتلكما','فتلكما','ربما','ولربما','فلربما','وربما','لعل','ولعل','فلعل','ليت','وليت','فليت','يا','أو','لو','لولا','ولو','فلو','فلولا','ولولا','ب','به','بها','بهما','بكما','بهم','بهن','بك','بي','بكن','وب','وبه','وبها','وبهما','وبكما','وبهم','وبهن','وبك','وبي','وبكن','فب','فبه','فبها','فبهما','فبكما','فبهم','فبهن','فبك','فبي','فبكن','أبه','أبها','أبهما','أبكما','أبهم','أبهن','أبك','أبي','أبكن','بين','وبين','فبين','لبين','بينه','وبينه','فبينه','لبينه','بينها','بينهما','وبينهما','فبينهما','ولبينهما','لبينهما','وبينهم','فبينهم','ولبينهم','لبينهم','وبينها','فبينها','ولبينها','لبينها','بينهم','بينهن','لبينهن','وبينهن','فبينهن','بيني','وبيني','فبيني','لبيني','بيننا','فبيننا','وبيننا','لبيننا','خلال','خلالهما','خلالهن','خلاله','خلالها','خلالي','خلالك','خلالنا','وخلال','وخلالهما','وخلالهن','وخلاله','وخلالها','وخلالي','وخلالك','وخلالنا','فخلال','فخلالهما','فخلالهن','فخلاله','فخلالها','فخلالي','فخلالك','فخلالنا','تحت','وتحت','فتحت','ولتحت','تحته','وتحته','فتحته','ولتحته','تحتها','وتحتها','فتحتها','ولتحتها','تحتهم','وتحتهم','فتحتهم','ولتحتهم','تحتهن','وتحتهن','فتحتهن','ولتحتهن','تحتي','وتحتي','فتحتي','ولتحتي','تحتهما','وتحتهما','فتحتهما','ولتحتهما','تحتكم','وتحتكم','فتحتكم','ولتحتكم','تحتكن','وتحتكن','فتحتكن','ولتحتكن','تحتكما','وتحتكما','فتحتكما','ولتحتكما','فوق','وفوق','ففوق','ولفوق','فوقه','وفوقه','ففوقه','ولفوقه','فوقها','وفوقها','ففوقها','ولفوقها','فوقهم','وفوقهم','ففوقهم','ولفوقهم','فوقهن','وفوقهن','ففوقهن','ولفوقهن','فوقي','وفوقي','ففوقي','ولفوقي','فوقهما','وفوقهما','ففوقهما','ولفوقهما','فوقكم','وفوقكم','ففوقكم','ولفوقكم','فوقكن','وفوقكن','ففوقكن','ولفوقكن','فوقكما','وفوقكما','ففوقكما','ولفوقكما','أ','ب','ت','ث','ج','ح','خ','د','ذ','ر','ز','س','ش','ص','ض','ط','ظ','ع','غ','ف','ق','ك','ل','م','ن','ه','و','ي','أي','أيهم','أيها','أيهن','أينا','أيكم','أيهم','أيكن','أيهن','وأي','وأيهم','وأيها','وأيهن','وأينا','وأيكم','وأيهم','وأيكن','وأيهن','فأي','فأيهم','فأيها','فأيهن','فأينا','فأيكم','فأيهم','فأيكن','فأيهن','لأي','لأيهم','لأيها','لأيهن','لأينا','لأيكم','لأيهم','لأيكن','لأيهن','كأي','كأيهم','كأيها','كأيهن','كأينا','كأيكم','كأيهم','كأيكن','كأيهن','ذلك','وذلك','فذلك','أذلك','كذلك','بذلك','لذلك','ذلكم','وذلكم','فذلكم','أذلكم','كمذلكم','بذلكم','لذلكم','ذلكن','وذلكن','فذلكن','أذلكن','كنذلكن','بذلكن','لذلكن','ذلكما','وذلكما','فذلكما','أذلكما','كماذلكما','بذلكما','لذلكما','أن','لأن','لأنهم','لأنهما','لأنكم','لأني','لأنكما','لأنكن','لأني','وأن','ولأن','ولأنهم','ولأنهما','ولأنكم','ولأني','ولأنكما','ولأنكن','ولأني','فأن','فلأن','فلأنهم','فلأنهما','فلأنكم','فلأني','فلأنكما','فلأنكن','فلأني','فلئن','ولئن','فلا','لأنه','بل','مما','ذا','كذا','هل','وهل','فهل','أنه','أنها','أنهم','أنهن','أنهما','أنني','أنكم','أننا','وأنه','وأنها','وأنهم','وأنهن','وأنهما','وأنني','وأنكم','وأننا','فأنه','فأنها','فأنهم','فأنهن','فأنهما','فأنني','فأنكم','فأننا','كأنه','كأنها','كأنهم','كأنهن','كأنهما','كأنني','كأنكم','كأننا','لأنه','لأنها','لأنهم','لأنهن','لأنهما','لأنني','لأنكم','لأننا','أني','وأني','فأني','كأني','لنا','ولنا','فلنا','حتى','وحتى','فحتى','فيما','أما','وأما','إنما','أم','وأما','إما','ثنا','حين','وحين','فحين','يومئذ','ويومئذ','فيومئذ','عندئذ','وعندئذ','فعندئذ','إني','هنا','هناك','وهناك','فهناك','لهناك','عما','وعما','وعم','عم','لما','أنى','أيان' ,'ماذا','لماذا','ولماذا','فلماذا','وعلام','وحتام','طالما','قلما','وطالما','فطالما','وقلما','ذاك','ذينك','تينك','ذينك','ليست','وليست','فليست','أليست','أوليست','أوليس','فليس','وليس','إنها','بينه','كيف','وكيف','فكيف','لكيف','لن','فلن','ولن','ألن','أنهما','إذن','أن','أوربما','أربما','منذ','كأن' ,'فإنك','هكذا','وهكذا','فإنه','فإنها','فإنهم','فإنهن','فإنهما','فإنك','فإنهما','فإنكما','فإنكم','فإني','فإنني','الا','اذا','اذ','الى','فى','آل','الدكتور' ,'السعودية','العربية','عبدالله','سعود','خلال','متي','ومتى','متى','فمتى','فأيان','كمن','فيمن','فأما','نا','ثنا','ومما' ,'فإننا','فإنا','كان','فكان','وكان','يكون','كانوا','كنا','كنتم','وكنتم','فكنا','وكنا','لكنا','ولكنا','كنت','وكنت','وعندنا','عندنا','اه','أنى','عا' ,'انه','انها','كذا','وكذا','فكذا','ال','وهكذا','ؤ','ء','لآ','آ','ا','ئ','ة','لإ','ى','هكذا','لهذا','فلهذا','ولهذا','كانت','إذا','إذما','إذن' ,'أف','أقل','أكثر','ألا','إلا','التي','الذي','الذين','اللاتي','اللائي','اللتان','اللتيا','اللتين','اللذان','اللذين','اللواتي','إلى','إليك','إليكم','إليكما' ,'إليكن','أم','أما','أما','إما','أن','إن','إنا','أنا','أنت','أنتم','أنتما','أنتن','أنما','إنه','أنى','أنى','آه','آها','أو','أولاء','أولئك','أوه' ,'آي','أي','أيها','إي','أين','أين','أينما','إيه','بخ','بس','بعد','بعض','بك','بكم','بكم','بكما','بكن','بل','بلى','بما','بماذا','بمن','بنا','عدد','تم','كورونا','العام' ,'به','بها','بهم','بهما','بهن','بي','بين','بيد','تلك','تلكم','تلكما','ته','تي','تين','تينك','ثم','ثمة','حاشا','حبذا','حتى','حيث','حيثما' ,'حين','خلا','دون','ذا','ذات','ذاك','ذان','ذانك','ذلك','ذلكم','ذلكما','ذلكن','ذه','ذو','ذوا','ذواتا','ذواتي','ذي','ذين','ذينك','ريث' ,'سوف','سوى','شتان','عدا','عسى','عل','على','عليك','عليه','عما','عن','عند','غير','فإذا','فإن','فلا','فمن','في','فيم','فيما','فيه' ,'فيها','قد','كأن','كأنما','كأي','كأين','كذا','كذلك','كل','كلا','كلاهما','كلتا','كلما','كليكما','كليهما','كم','كم','كما','كي','كيت','كيف' ,'كيفما','لا','لاسيما','لدى','لست','لستم','لستما','لستن','لسن','لسنا','لعل','لك','لكم','لكما','لكن','لكنما','لكي','لكيلا','لم','لما','لن','لنا','له' ,'لها','لهم','لهما','لهن','لو','لولا','لوما','لي','لئن','ليت','ليس','ليسا','ليست','ليستا','ليسوا','ما','ماذا','متى','مذ','مع','مما','ممن','من' ,'منه','منها','منذ','مه','مهما','نحن','نحو','نعم','ها','هاتان','هاته','هاتي','هاتين','هاك','هاهنا','هذا','هذان','هذه','هذي','هذين','هكذا','هل','هلا','هم','هما','هن','هنا','هناك','هنالك','هو','هؤلاء','هي','هيا','هيت','هيهات','والذي','فكانت','وإذ','وإذا','وإن','ولا','ولكن','يمكن','يتم','يجب','حول' ,'ولو','وما','ومن','وهو','يا','إذما','إذما','إذما','إذما','والذين','تكون','ان','ولكنتما','وكانتا','فكانتا','كانتا','فكنتم','فكنا','فكن','وكن','كن','وزير','الدكتور','خالد','فيصل','وقال','قال','عبر','فقط' ,'يكن','لتكن','ولتكن','فلتكن','ولكانت','لكانت','العام','كونوا','كنتما','عندما','الله','بن','سلمان','المملكة','عبدالعزيز','محمد','عبد','اليوم','يوم','أمس','أحد','أيضا','يوما','عام','عاما','مثل','البحر','الأحمر','المدينة','المنورة','مكة','المكرمة','السمو','الملكي','الأمير','الملك' ,'المرأة', 'الرجل', 'النساء', 'الرجال', 'والرجال', 'والنساء', 'والرجل', 'والمرأة', 'للرجال', 'للنساء', 'تجد', 'تجد', 'عامة', 'ايضا', 'صلى', 'الله', 'وسلم', 'أكثر' ,'تعرف', 'يقول', 'اي', 'تعالى', 'عليكم', 'ل', 'ا', 'وان', 'ـة', 'س', 'رويترز', 'كثيرا', 'الـ', 'احمد', 'القاهرة', 'أبو', 'باب', 'السلام', 'ورحمة', 'وبركاته', 'ال' ,'الـ', 'الآية', 'او', 'نفسها', 'شيء', 'ير', 'جاء', 'جانب', 'وكانت', 'ر', 'أكد', 'رغم', 'سورة', 'أقام', 'بسبب', 'قسم', 'فهد', 'بينما', 'أول', 'ألف', 'ثلاثة' ,'مرة', 'بـ', 'عددا', 'مدى', 'بشكل', 'وخاصة', 'رجل', 'امرأة', 'وتم', 'الكثير', 'عدم','قال','قالت','وخصوصا','أكثر' ,'جريدة', 'الكثير', 'فلسطين', 'بريدة', 'الرياض', 'بالرجل', 'برجل', 'بالمرأة', 'بالنساء', 'بمرأة', 'بنساء', 'حولها', 'كثير', 'مرات', 'سوباري' ,'الأول', 'الثاني', 'الثالث', 'الرابع', 'الخامس', 'السادس', 'السابع', 'الثامن', 'التاسع', 'العاشر', 'صحيفة', 'الجزيرة', 'ومها', 'العلي', 'وانه' ,'كبيرا', 'جديدا', 'الميمان', 'يعيني', 'هونج', 'كونج', 'عبدالكريم', 'الشمري', 'بأنه', 'حديث', 'الحديث', 'ساوث', 'الوقت', 'وقت', 'رمضان', 'الدكتورة', 'الدكتور', 'بالرياض' ,'السعودي', 'وقالت', 'إحدى', 'بعنوان', 'داخل', 'انما', 'ايضا', 'اولئك', 'الأمر']\n",
    "\n",
    "from nltk.corpus import stopwords\n",
    "stop_words = mylist\n",
    "#stop_words.extend(['from', 'subject', 're', 'edu', 'use'])"
   ]
  },
  {
   "cell_type": "code",
   "execution_count": 10,
   "metadata": {
    "_cell_guid": "59988959-fa66-4c1f-9797-9a5ea3e6927d",
    "_uuid": "46fa661ac2dbb94d28fa1190172c52ddbce05c4a"
   },
   "outputs": [
    {
     "name": "stdout",
     "output_type": "stream",
     "text": [
      "Tweet before vectorization: النساء والملز والحائر ولمدة ساعة كان البعض \n",
      "Tweet after vectorization: \n",
      "  (0, 4412)\t1\n",
      "  (0, 32861)\t1\n",
      "  (0, 31744)\t1\n",
      "  (0, 36380)\t1\n",
      "  (0, 19456)\t1\n"
     ]
    }
   ],
   "source": [
    "small_count_vectorizer = CountVectorizer(stop_words= mylist, max_features=40000)\n",
    "small_text_sample = reindexed_data.sample(n=10000, random_state=0).values\n",
    "\n",
    "print('Text before vectorization: {}'.format(small_text_sample[123]))\n",
    "\n",
    "small_document_term_matrix = small_count_vectorizer.fit_transform(small_text_sample)\n",
    "\n",
    "print('Text after vectorization: \\n{}'.format(small_document_term_matrix[123]))"
   ]
  },
  {
   "cell_type": "code",
   "execution_count": 11,
   "metadata": {
    "_cell_guid": "12f50c7e-c8d4-473d-9918-d476faeed788",
    "_uuid": "009f7a3aa962a4e3a74f8bc78c4e14b845acf51f"
   },
   "outputs": [],
   "source": [
    "n_topics = 10"
   ]
  },
  {
   "cell_type": "markdown",
   "metadata": {
    "_cell_guid": "0f3bc959-5f94-497b-afc2-6799ddd2a689",
    "_uuid": "2392087f63ed8827e3fb30ffea17d7c95e31c92f"
   },
   "source": [
    "### LSA"
   ]
  },
  {
   "cell_type": "code",
   "execution_count": 12,
   "metadata": {
    "_cell_guid": "5edba11f-1c8c-45ee-a833-f39a6eed0ffe",
    "_uuid": "403f67711d38b3acba59c3725cdf3be86536969a"
   },
   "outputs": [],
   "source": [
    "lsa_model = TruncatedSVD(n_components=n_topics)\n",
    "lsa_topic_matrix = lsa_model.fit_transform(small_document_term_matrix)"
   ]
  },
  {
   "cell_type": "code",
   "execution_count": 13,
   "metadata": {
    "_cell_guid": "48e9a37b-f6a3-4f8c-87ea-4bbe0026fa10",
    "_kg_hide-input": true,
    "_uuid": "56ea2060287a4efc2ee17ecd3b2f2caf57d5812e"
   },
   "outputs": [],
   "source": [
    "# Define helper functions\n",
    "def get_keys(topic_matrix):\n",
    "    '''\n",
    "    returns an integer list of predicted topic \n",
    "    categories for a given topic matrix\n",
    "    '''\n",
    "    keys = topic_matrix.argmax(axis=1).tolist()\n",
    "    return keys\n",
    "\n",
    "def keys_to_counts(keys):\n",
    "    '''\n",
    "    returns a tuple of topic categories and their \n",
    "    accompanying magnitudes for a given list of keys\n",
    "    '''\n",
    "    count_pairs = Counter(keys).items()\n",
    "    categories = [pair[0] for pair in count_pairs]\n",
    "    counts = [pair[1] for pair in count_pairs]\n",
    "    return (categories, counts)"
   ]
  },
  {
   "cell_type": "code",
   "execution_count": 14,
   "metadata": {
    "_cell_guid": "ba484cae-798f-49eb-b00f-f5ec9770503c",
    "_uuid": "09f4b3b20165658429e084fad81697beb6c54c49"
   },
   "outputs": [],
   "source": [
    "lsa_keys = get_keys(lsa_topic_matrix)\n",
    "lsa_categories, lsa_counts = keys_to_counts(lsa_keys)"
   ]
  },
  {
   "cell_type": "code",
   "execution_count": 15,
   "metadata": {
    "_cell_guid": "378ec442-fe50-40c1-af07-285c47f06991",
    "_kg_hide-input": true,
    "_uuid": "c260d3062f3039a58b924428b7013629f99c346d"
   },
   "outputs": [],
   "source": [
    "# Define helper functions\n",
    "def get_top_n_words(n, keys, document_term_matrix, count_vectorizer):\n",
    "    '''\n",
    "    returns a list of n_topic strings, where each string contains the n most common \n",
    "    words in a predicted category, in order\n",
    "    '''\n",
    "    top_word_indices = []\n",
    "    for topic in range(n_topics):\n",
    "        temp_vector_sum = 0\n",
    "        for i in range(len(keys)):\n",
    "            if keys[i] == topic:\n",
    "                temp_vector_sum += document_term_matrix[i]\n",
    "        temp_vector_sum = temp_vector_sum.toarray()\n",
    "        top_n_word_indices = np.flip(np.argsort(temp_vector_sum)[0][-n:],0)\n",
    "        top_word_indices.append(top_n_word_indices)   \n",
    "    top_words = []\n",
    "    for topic in top_word_indices:\n",
    "        topic_words = []\n",
    "        for index in topic:\n",
    "            temp_word_vector = np.zeros((1,document_term_matrix.shape[1]))\n",
    "            temp_word_vector[:,index] = 1\n",
    "            the_word = count_vectorizer.inverse_transform(temp_word_vector)[0][0]\n",
    "            topic_words.append(the_word.encode('utf-8').decode('utf-8'))\n",
    "        top_words.append(\" \".join(topic_words))        \n",
    "    return top_words"
   ]
  },
  {
   "cell_type": "code",
   "execution_count": 16,
   "metadata": {
    "_cell_guid": "61840d6f-a944-4a68-bfe2-ec6607482526",
    "_uuid": "7e857eb053d35108a827118f894faa9172628d36"
   },
   "outputs": [
    {
     "name": "stdout",
     "output_type": "stream",
     "text": [
      "Topic 1:  والولادة أمراض والأطفال خاصة الحمل والتوليد استشاري الولادة حياة استشارية\n",
      "Topic 2:  المجتمع دور المسلمة قيادة الحياة ضد للسيارة تعليم قضايا سواء\n",
      "Topic 3:  الشعر شعر تساقط زيادة الإنسان الشاعر جزء خاصة الشاعرة الشعراء\n",
      "Topic 4:  للسيارة قيادة بقيادة السيارة قادت السائق فاكهة تقطف السماح المتحفظين\n",
      "Topic 5:  الحمل الحامل أثناء الحوامل فترة حدوث صحة الدم الجنين منع\n",
      "Topic 6:  عمل العمل النسائية لعمل مجال مجالات تعمل الشباب بيع المجتمع\n",
      "Topic 7:  سن الثدي نسبة الدورة سنة سرطان يصيب العمر اليأس الناس\n",
      "Topic 8:  المسلمة عمل العمل الدعوة قرار حجاب الداعية الحجاب بحرية رأي\n",
      "Topic 9:  حقوق الإسلام حق زوجها والطفل الإنسان وحقوق بحقوق الطفل خلقت\n",
      "Topic 10:  الحامل التدخين البعض الأمراض تناول ظهور رحيما الخطأ تسبب السيئة\n"
     ]
    }
   ],
   "source": [
    "top_n_words_lsa = get_top_n_words(10, lsa_keys, small_document_term_matrix, small_count_vectorizer)\n",
    "\n",
    "for i in range(len(top_n_words_lsa)):\n",
    "    print(\"Topic {}: \".format(i+1), top_n_words_lsa[i])"
   ]
  },
  {
   "cell_type": "code",
   "execution_count": 17,
   "metadata": {
    "_cell_guid": "91916c42-685c-4c3b-bc68-2248ac8efcd0",
    "_kg_hide-input": true,
    "_uuid": "d37e004a79a6d264ca40c43e9dc847597402e318"
   },
   "outputs": [],
   "source": [
    "# Define helper functions\n",
    "def get_mean_topic_vectors(keys, two_dim_vectors):\n",
    "    '''\n",
    "    returns a list of centroid vectors from each predicted topic category\n",
    "    '''\n",
    "    mean_topic_vectors = []\n",
    "    for t in range(n_topics):\n",
    "        articles_in_that_topic = []\n",
    "        for i in range(len(keys)):\n",
    "            if keys[i] == t:\n",
    "                articles_in_that_topic.append(two_dim_vectors[i])    \n",
    "        \n",
    "        articles_in_that_topic = np.vstack(articles_in_that_topic)\n",
    "        mean_article_in_that_topic = np.mean(articles_in_that_topic, axis=0)\n",
    "        mean_topic_vectors.append(mean_article_in_that_topic)\n",
    "    return mean_topic_vectors"
   ]
  },
  {
   "cell_type": "markdown",
   "metadata": {
    "_cell_guid": "297d53ca-9738-4bfe-825a-68d44af2fa1d",
    "_uuid": "8a5b831010134d1a88350a7a2257d6c15d19b9fe"
   },
   "source": [
    "### LDA"
   ]
  },
  {
   "cell_type": "code",
   "execution_count": 18,
   "metadata": {
    "_cell_guid": "c19bf4af-f399-4493-8fa5-d55e54e4f681",
    "_uuid": "0671476e00f484368beb747eb1529bfd680aa7fa"
   },
   "outputs": [],
   "source": [
    "lda_model = LatentDirichletAllocation(n_components=n_topics, learning_method='online', \n",
    "                                          random_state=0, verbose=0)\n",
    "lda_topic_matrix = lda_model.fit_transform(small_document_term_matrix)"
   ]
  },
  {
   "cell_type": "code",
   "execution_count": 19,
   "metadata": {
    "_cell_guid": "47111084-176f-449b-b756-b17c7404ce5c",
    "_uuid": "bb8244a14ca8c442449475aa0c9d484c15472d4a"
   },
   "outputs": [],
   "source": [
    "lda_keys = get_keys(lda_topic_matrix)\n",
    "lda_categories, lda_counts = keys_to_counts(lda_keys)"
   ]
  },
  {
   "cell_type": "code",
   "execution_count": 20,
   "metadata": {
    "_cell_guid": "9a43b1cb-9723-4a42-b13e-473eeb75c46b",
    "_uuid": "5f96953b1f371fa7a90b7fd22ff8af2e5249f15b"
   },
   "outputs": [
    {
     "name": "stdout",
     "output_type": "stream",
     "text": [
      "Topic 1:  الشعر المسلمة الإسلام المجتمع خاصة حقوق الإنسان الزوج قضايا كتاب\n",
      "Topic 2:  والولادة أمراض سن الحمل العمل عمل والتوليد استشاري استشارية العقم\n",
      "Topic 3:  المجتمع تعليم عمل قضية حق للمرأة المسلمة مجتمعنا العمل التعليم\n",
      "Topic 4:  الحب الحياة دموع المسلمة مكانة دائما الكريم علاقة المجتمع الإسلام\n",
      "Topic 5:  والأطفال عمل النسائية الحياة العمل زوجها دور وجود المجتمع تريد\n",
      "Topic 6:  قيادة للسيارة حقوق المجتمع السيارة عنوان العدد الأطفال قرأت رقم\n",
      "Topic 7:  الآخر رئيس تحرير بنت المجتمع الشباب العمل تقول الوطن الأرض\n",
      "Topic 8:  الثدي نسبة بسرطان سرطان خاصة حالة الإصابة العالم إصابة الدراسة\n",
      "Topic 9:  الصالحة فتنة تقوم نجد شعر البيت كتابة أمام خاصة أخرى\n",
      "Topic 10:  الحمل الحامل سن أثناء دور الحوامل المسلمة ضد فترة العنف\n"
     ]
    }
   ],
   "source": [
    "top_n_words_lda = get_top_n_words(10, lda_keys, small_document_term_matrix, small_count_vectorizer)\n",
    "\n",
    "for i in range(len(top_n_words_lda)):\n",
    "    print(\"Topic {}: \".format(i+1), top_n_words_lda[i])"
   ]
  }
 ],
 "metadata": {
  "kernelspec": {
   "display_name": "Python 3",
   "language": "python",
   "name": "python3"
  },
  "language_info": {
   "codemirror_mode": {
    "name": "ipython",
    "version": 3
   },
   "file_extension": ".py",
   "mimetype": "text/x-python",
   "name": "python",
   "nbconvert_exporter": "python",
   "pygments_lexer": "ipython3",
   "version": "3.8.3"
  }
 },
 "nbformat": 4,
 "nbformat_minor": 1
}
